{
 "cells": [
  {
   "cell_type": "code",
   "execution_count": 2,
   "metadata": {},
   "outputs": [],
   "source": [
    "#x^2+y^2 = r^2\n",
    "\n",
    "import torch.nn as nn\n",
    "import torch.nn.functional as F\n",
    "from torchvision import transforms\n",
    "import torch\n",
    "import argparse\n",
    "import numpy as np\n",
    "import matplotlib.pyplot as plt\n",
    "import pandas as pd\n",
    "from torch.utils.data import DataLoader, Dataset\n",
    "import cv2\n",
    "\n",
    "args = {\n",
    "    'latent_dim':32,\n",
    "    'lr':0.0001,\n",
    "    'epochs':100,\n",
    "    'batch_size' : 32,\n",
    "    'train_len' : 50000,\n",
    "    'eval_len' : 10000\n",
    "}\n",
    "to_pil_image= transforms.ToPILImage()"
   ]
  },
  {
   "cell_type": "code",
   "execution_count": 3,
   "metadata": {},
   "outputs": [],
   "source": [
    "\n",
    "\n",
    "def rectangleOrCircle():\n",
    "    if(np.random.uniform(0,1)) >= 0.5:\n",
    "        return 'rectangle'\n",
    "    else:\n",
    "        return 'circle'\n",
    "\n",
    "\n",
    "def randParamsNumpy():\n",
    "    x = np.random.randint(low = 8,high = 25)\n",
    "    y = np.random.randint(low = 8,high = 25)\n",
    "    size = np.random.randint(low = 3,high = 9)\n",
    "    return x,y,size\n",
    "\n",
    "def pickColor(only_rand_blue = False):\n",
    "    if(only_rand_blue == True):\n",
    "        red = 0\n",
    "        green = 0\n",
    "        blue = np.random.uniform(0,1)\n",
    "    else:\n",
    "        red = np.random.uniform(0,1)\n",
    "        green = np.random.uniform(0,1)\n",
    "        blue = np.random.uniform(0,1)\n",
    "    return red,green,blue\n",
    "\n",
    "def randParamsPytorch():\n",
    "    x = torch.randint(low = 8,high = 25,size = (1,1))[0][0]\n",
    "    y = torch.randint(low = 8,high = 25,size = (1,1))[0][0]\n",
    "    size = torch.randint(low = 3,high = 9,size = (1,1))[0][0]\n",
    "    return x,y,size\n",
    "\n",
    " \n",
    "def createSquare(only_rand_blue = False):\n",
    "    x,y,size = randParamsPytorch()\n",
    "    red,green,blue = pickColor(only_rand_blue)\n",
    "    z = torch.zeros(3,32,32) #or torch.ones for white background\n",
    "    z[0][:,x-size:x+size][y-size:y+size] = red\n",
    "    z[1][:,x-size:x+size][y-size:y+size] = green\n",
    "    z[2][:,x-size:x+size][y-size:y+size] = blue\n",
    "    return z\n",
    "#,[x,y,size]\n",
    "\n",
    "def createCircle(only_rand_blue = False):\n",
    "    \n",
    "    x,y,size = randParamsPytorch()\n",
    "    red,green,blue = pickColor(only_rand_blue)\n",
    "    z = torch.zeros(3,32,32) #or torch.ones for white background\n",
    "    \n",
    "    X = np.random.multivariate_normal([0, 0], [[1, 0], [0,1]], 10000)\n",
    "    Z = X / 10 + X / np.sqrt(np.square(X).sum(axis=1, keepdims=True))\n",
    "    #plt.plot(np.floor(size*np.array(Z[:,0])),np.floor(size*np.array(Z[:,1])),'x')\n",
    "    new_dict = {}\n",
    "    grouped_x = pd.DataFrame({'x':np.floor(size*np.array(Z[:,0])),'y':np.floor(size*np.array(Z[:,1]))}).groupby(by='x')\n",
    "    for i in grouped_x:\n",
    "        val_x1 = min([j if j>0 else 20 for j in i[1]['y']] )\n",
    "        val_x2 = max([j if j<0 else -20 for j in i[1]['y']])\n",
    "        val_x1 = val_x1+size+(x-size)\n",
    "        val_x2= val_x2+size+(x-size)\n",
    "        \n",
    "        new_dict[(int(i[0]+size+(y-size)))] = [(int(val_x2)),(int(val_x1))]\n",
    "#ask if size is radius or total size  \n",
    "    #print(f'new_dct is {new_dict}')\n",
    "    for i in range(2*size):\n",
    "        y_axis = int(i+(y-size))\n",
    "        bounds = new_dict[y_axis]\n",
    "        \n",
    "        #print(f'the bounds are{bounds}, size is {size} and x and y are {x},{y}')\n",
    "        z[0][:,bounds[0]:bounds[1]][32-y_axis-1] = red\n",
    "        z[1][:,bounds[0]:bounds[1]][32-y_axis-1] = green\n",
    "        z[2][:,bounds[0]:bounds[1]][32-y_axis-1] = blue\n",
    "        \n",
    "    return z\n"
   ]
  },
  {
   "cell_type": "code",
   "execution_count": 4,
   "metadata": {},
   "outputs": [],
   "source": [
    "import math\n",
    "from skimage.draw import circle\n",
    "to_pil_image= transforms.ToPILImage()\n",
    "\n",
    "def createCircleNewTry(only_rand_blue=False):\n",
    "    x,y,size = randParamsPytorch()\n",
    "    red,green,blue = pickColor(only_rand_blue)\n",
    "    img = torch.zeros((3,32,32))\n",
    "    rr,cc = circle(r = x,c = y,radius = size)\n",
    "    img[0][rr, cc] = red\n",
    "    img[1][rr, cc] = green\n",
    "    img[2][rr, cc] = blue\n",
    "    return img"
   ]
  },
  {
   "cell_type": "code",
   "execution_count": 5,
   "metadata": {},
   "outputs": [],
   "source": [
    "def createCircleNewestTry(only_rand_blue = False):\n",
    "    to_pil_image= transforms.ToPILImage()\n",
    "    x,y,size = randParamsNumpy()\n",
    "    red,green,blue = pickColor(only_rand_blue)\n",
    "    z = np.zeros((32,32,3))\n",
    "    cv2.circle(z,(x,y),size,(red,green,blue),-1)\n",
    "    z = np.transpose(z,[2,0,1])\n",
    "    z = torch.FloatTensor(z)\n",
    "    return z\n",
    "#,[x,y,size]\n",
    "\n",
    "def createSquareNewestTry(only_rand_blue = False):\n",
    "    to_pil_image= transforms.ToPILImage()\n",
    "    x,y,size = randParamsNumpy()\n",
    "    red,green,blue = pickColor(only_rand_blue)\n",
    "    z = np.zeros((32,32,3))\n",
    "    cv2.rectangle(z,(x,y),(x+size,y+size),(red,green,blue),-1)\n",
    "    z = np.transpose(z,[2,0,1])\n",
    "    z = torch.FloatTensor(z)\n",
    "\n",
    "    return z\n",
    "#,[x,y,size]\n"
   ]
  },
  {
   "cell_type": "code",
   "execution_count": 6,
   "metadata": {},
   "outputs": [
    {
     "data": {
      "image/png": "[encoded data removed]",
      "text/plain": [
       "<PIL.Image.Image image mode=RGB size=32x32 at 0x2AF92F56608>"
      ]
     },
     "execution_count": 6,
     "metadata": {},
     "output_type": "execute_result"
    }
   ],
   "source": [
    "to_pil_image(createSquareNewestTry())"
   ]
  },
  {
   "cell_type": "code",
   "execution_count": 7,
   "metadata": {},
   "outputs": [
    {
     "data": {
      "image/png": "[encoded data removed]",
      "text/plain": [
       "<PIL.Image.Image image mode=RGB size=32x32 at 0x2AF9A20A4C8>"
      ]
     },
     "execution_count": 7,
     "metadata": {},
     "output_type": "execute_result"
    }
   ],
   "source": [
    "to_pil_image(createCircleNewTry())"
   ]
  },
  {
   "cell_type": "code",
   "execution_count": 8,
   "metadata": {},
   "outputs": [
    {
     "data": {
      "image/png": "[encoded data removed]",
      "text/plain": [
       "<PIL.Image.Image image mode=RGB size=32x32 at 0x2AF9A201E08>"
      ]
     },
     "execution_count": 8,
     "metadata": {},
     "output_type": "execute_result"
    }
   ],
   "source": [
    "\n",
    "to_pil_image(createCircle())"
   ]
  },
  {
   "cell_type": "code",
   "execution_count": 9,
   "metadata": {},
   "outputs": [
    {
     "data": {
      "image/png": "[encoded data removed]",
      "text/plain": [
       "<PIL.Image.Image image mode=RGB size=32x32 at 0x2AF9A201708>"
      ]
     },
     "execution_count": 9,
     "metadata": {},
     "output_type": "execute_result"
    }
   ],
   "source": [
    "to_pil_image(createSquare() + createCircle())"
   ]
  },
  {
   "cell_type": "code",
   "execution_count": 11,
   "metadata": {},
   "outputs": [],
   "source": [
    "#creating synthetic dataset\n",
    "#compress maybe?\n",
    "def train_set_twoShapes(size = args['train_len']):\n",
    "    dataset = []\n",
    "    for i in range(size):\n",
    "        if(i%500==0):\n",
    "            print(f' this is the {i}th iteration')\n",
    "        #if(np.random.randint(0,2) == 0):\n",
    "        #    dataset.append(createCircle())\n",
    "        #else:\n",
    "        dataset.append(createSquareNewestTry()+createCircleNewestTry())\n",
    "        \n",
    "    return dataset"
   ]
  },
  {
   "cell_type": "code",
   "execution_count": 12,
   "metadata": {},
   "outputs": [],
   "source": [
    "def eval_set_twoShapes(size = args['eval_len']):\n",
    "    dataset = []\n",
    "    for i in range(size):\n",
    "        if(i%500==0):\n",
    "            print(f' this is the {i}th iteration')\n",
    "        #if(np.random.randint(0,2) == 0):\n",
    "        #    dataset.append(createCircle())\n",
    "        #else:\n",
    "        dataset.append(createSquareNewestTry()+createCircleNewestTry())\n",
    "    return dataset\n",
    "    "
   ]
  },
  {
   "cell_type": "code",
   "execution_count": 37,
   "metadata": {},
   "outputs": [],
   "source": [
    "def train_set(size = args['train_len']):\n",
    "    dataset = []\n",
    "  \n",
    "    for i in range(size):\n",
    "        if(i%500==0):\n",
    "            print(f' this is the {i}th iteration')\n",
    "        if(np.random.randint(0,2) == 0):\n",
    "            data = createCircleNewestTry()\n",
    "            dataset.append(data)\n",
    "        else:\n",
    "            data = createSquareNewestTry()\n",
    "            dataset.append(data)\n",
    "               \n",
    "    return dataset"
   ]
  },
  {
   "cell_type": "code",
   "execution_count": 38,
   "metadata": {},
   "outputs": [],
   "source": [
    "def eval_set(size = args['eval_len']):\n",
    "    dataset = []\n",
    "\n",
    "    for i in range(size):\n",
    "        if(i%500==0):\n",
    "            print(f' this is the {i}th iteration')\n",
    "        if(np.random.randint(0,2) == 0):\n",
    "            data = createCircleNewestTry()\n",
    "            dataset.append(data)         \n",
    "        else:\n",
    "            data = createSquareNewestTry()\n",
    "            dataset.append(data)         \n",
    "    return dataset"
   ]
  },
  {
   "cell_type": "code",
   "execution_count": 39,
   "metadata": {
    "scrolled": true
   },
   "outputs": [
    {
     "name": "stdout",
     "output_type": "stream",
     "text": [
      " this is the 0th iteration\n",
      " this is the 500th iteration\n",
      " this is the 1000th iteration\n",
      " this is the 1500th iteration\n",
      " this is the 2000th iteration\n",
      " this is the 2500th iteration\n",
      " this is the 3000th iteration\n",
      " this is the 3500th iteration\n",
      " this is the 4000th iteration\n",
      " this is the 4500th iteration\n",
      " this is the 5000th iteration\n",
      " this is the 5500th iteration\n",
      " this is the 6000th iteration\n",
      " this is the 6500th iteration\n",
      " this is the 7000th iteration\n",
      " this is the 7500th iteration\n",
      " this is the 8000th iteration\n",
      " this is the 8500th iteration\n",
      " this is the 9000th iteration\n",
      " this is the 9500th iteration\n",
      " this is the 10000th iteration\n",
      " this is the 10500th iteration\n",
      " this is the 11000th iteration\n",
      " this is the 11500th iteration\n",
      " this is the 12000th iteration\n",
      " this is the 12500th iteration\n",
      " this is the 13000th iteration\n",
      " this is the 13500th iteration\n",
      " this is the 14000th iteration\n",
      " this is the 14500th iteration\n",
      " this is the 15000th iteration\n",
      " this is the 15500th iteration\n",
      " this is the 16000th iteration\n",
      " this is the 16500th iteration\n",
      " this is the 17000th iteration\n",
      " this is the 17500th iteration\n",
      " this is the 18000th iteration\n",
      " this is the 18500th iteration\n",
      " this is the 19000th iteration\n",
      " this is the 19500th iteration\n",
      " this is the 20000th iteration\n",
      " this is the 20500th iteration\n",
      " this is the 21000th iteration\n",
      " this is the 21500th iteration\n",
      " this is the 22000th iteration\n",
      " this is the 22500th iteration\n",
      " this is the 23000th iteration\n",
      " this is the 23500th iteration\n",
      " this is the 24000th iteration\n",
      " this is the 24500th iteration\n",
      " this is the 25000th iteration\n",
      " this is the 25500th iteration\n",
      " this is the 26000th iteration\n",
      " this is the 26500th iteration\n",
      " this is the 27000th iteration\n",
      " this is the 27500th iteration\n",
      " this is the 28000th iteration\n",
      " this is the 28500th iteration\n",
      " this is the 29000th iteration\n",
      " this is the 29500th iteration\n",
      " this is the 30000th iteration\n",
      " this is the 30500th iteration\n",
      " this is the 31000th iteration\n",
      " this is the 31500th iteration\n",
      " this is the 32000th iteration\n",
      " this is the 32500th iteration\n",
      " this is the 33000th iteration\n",
      " this is the 33500th iteration\n",
      " this is the 34000th iteration\n",
      " this is the 34500th iteration\n",
      " this is the 35000th iteration\n",
      " this is the 35500th iteration\n",
      " this is the 36000th iteration\n",
      " this is the 36500th iteration\n",
      " this is the 37000th iteration\n",
      " this is the 37500th iteration\n",
      " this is the 38000th iteration\n",
      " this is the 38500th iteration\n",
      " this is the 39000th iteration\n",
      " this is the 39500th iteration\n",
      " this is the 40000th iteration\n",
      " this is the 40500th iteration\n",
      " this is the 41000th iteration\n",
      " this is the 41500th iteration\n",
      " this is the 42000th iteration\n",
      " this is the 42500th iteration\n",
      " this is the 43000th iteration\n",
      " this is the 43500th iteration\n",
      " this is the 44000th iteration\n",
      " this is the 44500th iteration\n",
      " this is the 45000th iteration\n",
      " this is the 45500th iteration\n",
      " this is the 46000th iteration\n",
      " this is the 46500th iteration\n",
      " this is the 47000th iteration\n",
      " this is the 47500th iteration\n",
      " this is the 48000th iteration\n",
      " this is the 48500th iteration\n",
      " this is the 49000th iteration\n",
      " this is the 49500th iteration\n"
     ]
    }
   ],
   "source": [
    "train_data = train_set()"
   ]
  },
  {
   "cell_type": "code",
   "execution_count": 40,
   "metadata": {},
   "outputs": [
    {
     "name": "stdout",
     "output_type": "stream",
     "text": [
      " this is the 0th iteration\n",
      " this is the 500th iteration\n",
      " this is the 1000th iteration\n",
      " this is the 1500th iteration\n",
      " this is the 2000th iteration\n",
      " this is the 2500th iteration\n",
      " this is the 3000th iteration\n",
      " this is the 3500th iteration\n",
      " this is the 4000th iteration\n",
      " this is the 4500th iteration\n",
      " this is the 5000th iteration\n",
      " this is the 5500th iteration\n",
      " this is the 6000th iteration\n",
      " this is the 6500th iteration\n",
      " this is the 7000th iteration\n",
      " this is the 7500th iteration\n",
      " this is the 8000th iteration\n",
      " this is the 8500th iteration\n",
      " this is the 9000th iteration\n",
      " this is the 9500th iteration\n"
     ]
    }
   ],
   "source": [
    "validation_data = eval_set()"
   ]
  },
  {
   "cell_type": "code",
   "execution_count": 41,
   "metadata": {},
   "outputs": [
    {
     "data": {
      "image/png": "[encoded data removed]",
      "text/plain": [
       "<PIL.Image.Image image mode=RGB size=32x32 at 0x2B09CBDF948>"
      ]
     },
     "execution_count": 41,
     "metadata": {},
     "output_type": "execute_result"
    }
   ],
   "source": [
    "train_tensor_data = (torch.tensor(np.reshape((np.concatenate(train_data)),[50000,3,32,32])))\n",
    "to_pil_image(train_tensor_data[90])"
   ]
  },
  {
   "cell_type": "code",
   "execution_count": 42,
   "metadata": {},
   "outputs": [
    {
     "data": {
      "image/png": "[encoded data removed]",
      "text/plain": [
       "<PIL.Image.Image image mode=RGB size=32x32 at 0x2B09CC49A48>"
      ]
     },
     "execution_count": 42,
     "metadata": {},
     "output_type": "execute_result"
    }
   ],
   "source": [
    "eval_tensor_data = (torch.tensor(np.reshape((np.concatenate(validation_data)),[10000,3,32,32])))\n",
    "to_pil_image(eval_tensor_data[109])"
   ]
  },
  {
   "cell_type": "code",
   "execution_count": null,
   "metadata": {},
   "outputs": [],
   "source": [
    "def gaussianNoise(train_tensor = train_tensor, mean = 0,var = 0.000009 ,size = args['train_len']):\n",
    "    train_tensor_gaussian_noise = []\n",
    "    #best so far has been var = 0.000009\n",
    "    for i in range(size):\n",
    "        if(i%500==0):\n",
    "            print(f'this is the {i}th iteration')\n",
    "        image = train_tensor[i]\n",
    "        row,col,ch= image.shape\n",
    "        gaussian_mean = float(mean)\n",
    "        gaussian_var = float(var)\n",
    "        sigma = float(gaussian_var**0.5)\n",
    "        gauss = torch.normal(gaussian_mean,sigma,(row,col,ch))\n",
    "        gauss = torch.reshape(gauss,(row,col,ch))\n",
    "        noisy = image + gauss\n",
    "        train_tensor_gaussian_noise.append(noisy)\n",
    "    return train_tensor_gaussian_noise\n"
   ]
  },
  {
   "cell_type": "code",
   "execution_count": null,
   "metadata": {},
   "outputs": [],
   "source": [
    "def normalize(size = args['train_len'],train_tensor = train_tensor):\n",
    "    normalized_tensor = []\n",
    "    normalize = transforms.Normalize(mean=[0.485, 0.456, 0.406],std=[0.229, 0.224, 0.225])\n",
    "    for i in range(size):\n",
    "        if(i%500==0):\n",
    "            print(f'this is the {i}th iteration')\n",
    "        normalized_tensor.append(normalize(train_tensor[i]))\n",
    "    return normalized_tensor\n",
    "        "
   ]
  },
  {
   "cell_type": "code",
   "execution_count": null,
   "metadata": {},
   "outputs": [],
   "source": [
    "#probability must be 1/something\n",
    "def randomizedGaussianNoise(train_tensor = train_tensor, mean = 0,var = 0.000009 ,size = args['train_len'], probability = 0.5):\n",
    "    train_tensor_gaussian_noise = []\n",
    "    #best so far has been var = 0.000009\n",
    "    for i in range(size):\n",
    "        if(i%500==0):\n",
    "            print(f'this is the {i}th iteration')\n",
    "        image = train_tensor[i]\n",
    "        if(np.random.randint(0,probability**-1) == 0): #high is exclusive\n",
    "            row,col,ch= image.shape\n",
    "            gaussian_mean = float(mean)\n",
    "            gaussian_var = float(var)\n",
    "            sigma = float(gaussian_var**0.5)\n",
    "            gauss = torch.normal(gaussian_mean,sigma,(row,col,ch))\n",
    "            gauss = torch.reshape(gauss,(row,col,ch))\n",
    "            noisy = image + gauss\n",
    "            train_tensor_gaussian_noise.append(noisy)\n",
    "        else:\n",
    "            train_tensor_gaussian_noise.append(image)\n",
    "            \n",
    "    return train_tensor_gaussian_noise"
   ]
  },
  {
   "cell_type": "code",
   "execution_count": null,
   "metadata": {},
   "outputs": [],
   "source": [
    "def randomizedNormalization(train_tensor = train_tensor,size = args['train_len'], probability = 0.5):\n",
    "    normalized_tensor = []\n",
    "    #best so far has been var = 0.000009\n",
    "    normalize = transforms.Normalize(mean=[0.485, 0.456, 0.406],std=[0.229, 0.224, 0.225])\n",
    "    for i in range(size):\n",
    "        if(i%500==0):\n",
    "            print(f'this is the {i}th iteration')\n",
    "        image = train_tensor[i]\n",
    "        if(np.random.randint(0,probability**-1) == 0):\n",
    "            normalized_tensor.append(normalize(image))\n",
    "        else:\n",
    "            normalized_tensor.append(image)\n",
    "               \n",
    "    return normalized_tensor"
   ]
  },
  {
   "cell_type": "code",
   "execution_count": 21,
   "metadata": {},
   "outputs": [],
   "source": [
    "class encoder(nn.Module):\n",
    "    def __init__(self):\n",
    "        super().__init__()\n",
    "        self.conv1 = nn.Conv2d(in_channels = 3, out_channels = 32, kernel_size = 4, stride = 2, padding = 1)\n",
    "        self.conv2 = nn.Conv2d(in_channels = 32, out_channels = 64,kernel_size = 4, stride = 2, padding = 1)\n",
    "        self.conv3 = nn.Conv2d(in_channels = 64, out_channels = 128, kernel_size = 4, stride = 2, padding = 1)\n",
    "        self.conv4 = nn.Conv2d(in_channels = 128, out_channels = 256, kernel_size = 4, stride = 2, padding = 1)\n",
    "        self.conv5 = nn.Conv2d(in_channels = 256, out_channels = 32, kernel_size = 4, stride = 2, padding = 1)\n",
    "    def forward(self,x):\n",
    "        #print(x.shape)\n",
    "        x = F.relu(self.conv1(x))\n",
    "        #print(x.shape)\n",
    "        x = F.relu(self.conv2(x))\n",
    "        #print(x.shape)\n",
    "        x = F.relu(self.conv3(x))\n",
    "        #print(x.shape)\n",
    "        x = F.relu(self.conv4(x))\n",
    "        #print(x.shape)\n",
    "        x = F.relu(self.conv5(x))\n",
    "        #print(x.shape)\n",
    "        x = x.view(x.size(0),-1)\n",
    "        \n",
    "        return x"
   ]
  },
  {
   "cell_type": "code",
   "execution_count": 22,
   "metadata": {},
   "outputs": [],
   "source": [
    "class linear_between(nn.Module):\n",
    "    def __init__ (self, linear_layers):\n",
    "        super().__init__()\n",
    "        self.layers = nn.ModuleList([nn.Linear(32,32) for i in range(linear_layers)])\n",
    "    def forward(self,x):\n",
    "         #maybe replace with (x.view(x.size(0),-1))\n",
    "        for layer in self.layers:\n",
    "            x = layer(x)\n",
    "        #print(x.shape)\n",
    "        #print(x.shape)\n",
    "        return x"
   ]
  },
  {
   "cell_type": "code",
   "execution_count": 23,
   "metadata": {},
   "outputs": [],
   "source": [
    "class decoder(nn.Module):\n",
    "    def __init__ (self):\n",
    "        super().__init__()\n",
    "        \n",
    "        self.convt1 = nn.ConvTranspose2d(in_channels = 32, out_channels = 256,kernel_size = 4, stride = 2, padding = 1)\n",
    "        self.convt2 = nn.ConvTranspose2d(in_channels = 256, out_channels = 128, kernel_size = 4, stride = 2, padding = 1)\n",
    "        self.convt3 = nn.ConvTranspose2d(in_channels = 128, out_channels = 64, kernel_size = 4, stride = 2, padding =1)\n",
    "        self.convt4 = nn.ConvTranspose2d(in_channels = 64, out_channels = 32, kernel_size = 4, stride = 2, padding = 1)\n",
    "        self.convt5 = nn.ConvTranspose2d(in_channels = 32, out_channels = 3, kernel_size = 4, stride = 2, padding = 1)\n",
    "    def forward(self,x):\n",
    "        #print(x.shape)\n",
    "        x = x.view(-1,32,1,1)\n",
    "        x = F.relu(self.convt1(x))\n",
    "        #print(x.shape)\n",
    "        x = F.relu(self.convt2(x))\n",
    "        #print(x.shape)\n",
    "        x = F.relu(self.convt3(x))\n",
    "        #print(x.shape)\n",
    "        x = F.relu(self.convt4(x))\n",
    "        #print(x.shape)\n",
    "        x = torch.tanh(self.convt5(x))\n",
    "        #print(x.shape)\n",
    "        \n",
    "        return x\n",
    "\n",
    "class IMRAE(nn.Module):\n",
    "    def __init__(self,linear_layers):\n",
    "        super().__init__()\n",
    "        self.linear_layers = linear_layers\n",
    "        self.encoder = encoder()\n",
    "        self.linear_between = linear_between(linear_layers)\n",
    "        self.decoder = decoder()\n",
    "        \n",
    "    def forward(self,x):\n",
    "        x = self.encoder(x)\n",
    "        x = self.linear_between(x)\n",
    "        x = self.decoder(x)\n",
    "        return x\n",
    "    \n",
    "    "
   ]
  },
  {
   "cell_type": "code",
   "execution_count": null,
   "metadata": {},
   "outputs": [],
   "source": []
  },
  {
   "cell_type": "code",
   "execution_count": 43,
   "metadata": {},
   "outputs": [],
   "source": [
    "\n",
    "test_dataloader = DataLoader(eval_tensor_data, batch_size = args['batch_size'], shuffle = True)\n",
    "train_dataloader = DataLoader(train_tensor_data, batch_size = args['batch_size'], shuffle = True)\n"
   ]
  },
  {
   "cell_type": "code",
   "execution_count": null,
   "metadata": {},
   "outputs": [],
   "source": []
  },
  {
   "cell_type": "code",
   "execution_count": 24,
   "metadata": {},
   "outputs": [],
   "source": []
  },
  {
   "cell_type": "code",
   "execution_count": 25,
   "metadata": {},
   "outputs": [],
   "source": [
    "#maybe decrease the size to ensure square?\n",
    "def train(lr,train_dataloader,num_epochs,regularization = None, l = 0,lmbda = 1e-10):\n",
    "    \n",
    "    device = torch.device(\"cuda:0\" if torch.cuda.is_available() else \"cpu\")\n",
    "\n",
    "    imrae2 = IMRAE(l)\n",
    "    imrae2.to(device)\n",
    "    to_pil_image= transforms.ToPILImage()\n",
    "    \n",
    "    optimizer = torch.optim.Adam(params=imrae2.parameters(), lr=lr)\n",
    "    num_epochs = num_epochs\n",
    "    x=[]\n",
    "    \n",
    "    \n",
    "    for epoch in range(num_epochs):\n",
    "        train_loss_avg = 0\n",
    "        num_batches = 0\n",
    "        \n",
    "        \n",
    "        for batch in train_dataloader:\n",
    "            optimizer.zero_grad()\n",
    "            l1_regularization = 0\n",
    "            l2_regularization = 0\n",
    "            batch = batch.to(device)\n",
    "            reconstructed = imrae2(batch)\n",
    "            loss = F.mse_loss(reconstructed, batch)\n",
    "            \n",
    "            if(regularization=='l1'):\n",
    "                l1_regularization = torch.norm(ae_real_trained_l1.encoder(batch),1)\n",
    "            loss+= lmbda*l1_regularization  \n",
    "            if(regularization == 'l2'):\n",
    "                l2_regularization = torch.norm(ae_real_trained_l1.encoder(batch),2)**2\n",
    "            loss+= lmbda*l2_regularization\n",
    "            \n",
    "            loss.backward()\n",
    "            optimizer.step()\n",
    "            train_loss_avg+=(loss.item())\n",
    "            num_batches += 1\n",
    "            x.append(to_pil_image(reconstructed[0].detach().cpu().clone()))\n",
    "    \n",
    "        train_loss_avg /= num_batches\n",
    "        print(f'Epoch [{epoch+1} / {num_epochs}] average reconstruction error: {train_loss_avg}')\n",
    "        \n",
    "    return imrae2,x,train_loss_avg\n",
    "   "
   ]
  },
  {
   "cell_type": "code",
   "execution_count": 26,
   "metadata": {},
   "outputs": [],
   "source": [
    "def train_trained_model(imrae2,lr,train_dataloader,num_epochs,regularization = None,lmbda = 1e-10):\n",
    "    \n",
    "    to_pil_image= transforms.ToPILImage()\n",
    "    \n",
    "    optimizer = torch.optim.Adam(params=imrae2.parameters(), lr=lr)\n",
    "    num_epochs = num_epochs\n",
    "    x=[]\n",
    "    \n",
    "    \n",
    "    for epoch in range(num_epochs):\n",
    "        train_loss_avg = 0\n",
    "        num_batches = 0\n",
    "        \n",
    "        for batch in train_dataloader:\n",
    "            l1_regularization = torch.FloatTensor(0)\n",
    "            l2_regularization = torch.FloatTensor(0)\n",
    "            optimizer.zero_grad()\n",
    "            batch = batch.to(device)\n",
    "            reconstructed = imrae2(batch)\n",
    "            loss = F.mse_loss(reconstructed, batch)\n",
    "            if(regularization=='l1'):\n",
    "                l1_regularization = torch.norm(ae_real_trained_l1.encoder(batch),1)\n",
    "            loss+= lmbda*l1_regularization  \n",
    "            if(regularization == 'l2'):\n",
    "                l2_regularization = torch.norm(ae_real_trained_l1.encoder(batch),2)**2\n",
    "            loss+= lmbda*l2_regularization     \n",
    "            \n",
    "            print(loss.item())\n",
    "            loss.backward()\n",
    "            optimizer.step()\n",
    "            train_loss_avg+=(loss.item())\n",
    "            num_batches += 1\n",
    "            x.append(to_pil_image(reconstructed[0].detach().cpu().clone()))\n",
    "    \n",
    "        train_loss_avg /= num_batches\n",
    "        print(f'Epoch [{epoch+1} / {num_epochs}] average reconstruction error: {train_loss_avg}')\n",
    "        \n",
    "    return imrae2,x,train_loss_avg"
   ]
  },
  {
   "cell_type": "code",
   "execution_count": 27,
   "metadata": {
    "scrolled": true
   },
   "outputs": [
    {
     "data": {
      "text/plain": [
       "IMRAE(\n",
       "  (encoder): encoder(\n",
       "    (conv1): Conv2d(3, 32, kernel_size=(4, 4), stride=(2, 2), padding=(1, 1))\n",
       "    (conv2): Conv2d(32, 64, kernel_size=(4, 4), stride=(2, 2), padding=(1, 1))\n",
       "    (conv3): Conv2d(64, 128, kernel_size=(4, 4), stride=(2, 2), padding=(1, 1))\n",
       "    (conv4): Conv2d(128, 256, kernel_size=(4, 4), stride=(2, 2), padding=(1, 1))\n",
       "    (conv5): Conv2d(256, 32, kernel_size=(4, 4), stride=(2, 2), padding=(1, 1))\n",
       "  )\n",
       "  (linear_between): linear_between(\n",
       "    (layers): ModuleList()\n",
       "  )\n",
       "  (decoder): decoder(\n",
       "    (convt1): ConvTranspose2d(32, 256, kernel_size=(4, 4), stride=(2, 2), padding=(1, 1))\n",
       "    (convt2): ConvTranspose2d(256, 128, kernel_size=(4, 4), stride=(2, 2), padding=(1, 1))\n",
       "    (convt3): ConvTranspose2d(128, 64, kernel_size=(4, 4), stride=(2, 2), padding=(1, 1))\n",
       "    (convt4): ConvTranspose2d(64, 32, kernel_size=(4, 4), stride=(2, 2), padding=(1, 1))\n",
       "    (convt5): ConvTranspose2d(32, 3, kernel_size=(4, 4), stride=(2, 2), padding=(1, 1))\n",
       "  )\n",
       ")"
      ]
     },
     "execution_count": 27,
     "metadata": {},
     "output_type": "execute_result"
    }
   ],
   "source": [
    "device = torch.device(\"cuda:0\" if torch.cuda.is_available() else \"cpu\")\n",
    "ae_real_trained_l2 = IMRAE(0)\n",
    "ae_real_trained_l2.to(device)"
   ]
  },
  {
   "cell_type": "code",
   "execution_count": 48,
   "metadata": {
    "scrolled": true
   },
   "outputs": [
    {
     "data": {
      "text/plain": [
       "IMRAE(\n",
       "  (encoder): encoder(\n",
       "    (conv1): Conv2d(3, 32, kernel_size=(4, 4), stride=(2, 2), padding=(1, 1))\n",
       "    (conv2): Conv2d(32, 64, kernel_size=(4, 4), stride=(2, 2), padding=(1, 1))\n",
       "    (conv3): Conv2d(64, 128, kernel_size=(4, 4), stride=(2, 2), padding=(1, 1))\n",
       "    (conv4): Conv2d(128, 256, kernel_size=(4, 4), stride=(2, 2), padding=(1, 1))\n",
       "    (conv5): Conv2d(256, 32, kernel_size=(4, 4), stride=(2, 2), padding=(1, 1))\n",
       "  )\n",
       "  (linear_between): linear_between(\n",
       "    (layers): ModuleList(\n",
       "      (0): Linear(in_features=32, out_features=32, bias=True)\n",
       "      (1): Linear(in_features=32, out_features=32, bias=True)\n",
       "      (2): Linear(in_features=32, out_features=32, bias=True)\n",
       "      (3): Linear(in_features=32, out_features=32, bias=True)\n",
       "    )\n",
       "  )\n",
       "  (decoder): decoder(\n",
       "    (convt1): ConvTranspose2d(32, 256, kernel_size=(4, 4), stride=(2, 2), padding=(1, 1))\n",
       "    (convt2): ConvTranspose2d(256, 128, kernel_size=(4, 4), stride=(2, 2), padding=(1, 1))\n",
       "    (convt3): ConvTranspose2d(128, 64, kernel_size=(4, 4), stride=(2, 2), padding=(1, 1))\n",
       "    (convt4): ConvTranspose2d(64, 32, kernel_size=(4, 4), stride=(2, 2), padding=(1, 1))\n",
       "    (convt5): ConvTranspose2d(32, 3, kernel_size=(4, 4), stride=(2, 2), padding=(1, 1))\n",
       "  )\n",
       ")"
      ]
     },
     "execution_count": 48,
     "metadata": {},
     "output_type": "execute_result"
    }
   ],
   "source": [
    "imrae_4 = IMRAE(4)\n",
    "imrae_4.to(device)"
   ]
  },
  {
   "cell_type": "code",
   "execution_count": 29,
   "metadata": {},
   "outputs": [
    {
     "data": {
      "text/plain": [
       "IMRAE(\n",
       "  (encoder): encoder(\n",
       "    (conv1): Conv2d(3, 32, kernel_size=(4, 4), stride=(2, 2), padding=(1, 1))\n",
       "    (conv2): Conv2d(32, 64, kernel_size=(4, 4), stride=(2, 2), padding=(1, 1))\n",
       "    (conv3): Conv2d(64, 128, kernel_size=(4, 4), stride=(2, 2), padding=(1, 1))\n",
       "    (conv4): Conv2d(128, 256, kernel_size=(4, 4), stride=(2, 2), padding=(1, 1))\n",
       "    (conv5): Conv2d(256, 32, kernel_size=(4, 4), stride=(2, 2), padding=(1, 1))\n",
       "  )\n",
       "  (linear_between): linear_between(\n",
       "    (layers): ModuleList()\n",
       "  )\n",
       "  (decoder): decoder(\n",
       "    (convt1): ConvTranspose2d(32, 256, kernel_size=(4, 4), stride=(2, 2), padding=(1, 1))\n",
       "    (convt2): ConvTranspose2d(256, 128, kernel_size=(4, 4), stride=(2, 2), padding=(1, 1))\n",
       "    (convt3): ConvTranspose2d(128, 64, kernel_size=(4, 4), stride=(2, 2), padding=(1, 1))\n",
       "    (convt4): ConvTranspose2d(64, 32, kernel_size=(4, 4), stride=(2, 2), padding=(1, 1))\n",
       "    (convt5): ConvTranspose2d(32, 3, kernel_size=(4, 4), stride=(2, 2), padding=(1, 1))\n",
       "  )\n",
       ")"
      ]
     },
     "execution_count": 29,
     "metadata": {},
     "output_type": "execute_result"
    }
   ],
   "source": [
    "ae_real_trained_l1 = IMRAE(0)\n",
    "ae_real_trained_l1.to(device)"
   ]
  },
  {
   "cell_type": "code",
   "execution_count": 49,
   "metadata": {},
   "outputs": [
    {
     "name": "stdout",
     "output_type": "stream",
     "text": [
      "Epoch [1 / 100] average reconstruction error: 0.011302680802017316\n",
      "Epoch [2 / 100] average reconstruction error: 0.0065485039323399125\n",
      "Epoch [3 / 100] average reconstruction error: 0.005523761472487804\n",
      "Epoch [4 / 100] average reconstruction error: 0.005208582259382116\n",
      "Epoch [5 / 100] average reconstruction error: 0.005017059225045617\n",
      "Epoch [6 / 100] average reconstruction error: 0.004911001152445348\n",
      "Epoch [7 / 100] average reconstruction error: 0.004833913573122899\n",
      "Epoch [8 / 100] average reconstruction error: 0.004774511669168364\n",
      "Epoch [9 / 100] average reconstruction error: 0.004731125653836392\n",
      "Epoch [10 / 100] average reconstruction error: 0.004688215041735703\n",
      "Epoch [11 / 100] average reconstruction error: 0.0046588670946800664\n",
      "Epoch [12 / 100] average reconstruction error: 0.0046299797200055\n",
      "Epoch [13 / 100] average reconstruction error: 0.004591930199859\n",
      "Epoch [14 / 100] average reconstruction error: 0.004566754974777586\n",
      "Epoch [15 / 100] average reconstruction error: 0.004542126977531405\n",
      "Epoch [16 / 100] average reconstruction error: 0.0045205816145097305\n",
      "Epoch [17 / 100] average reconstruction error: 0.004492036051606081\n",
      "Epoch [18 / 100] average reconstruction error: 0.004469401644625041\n",
      "Epoch [19 / 100] average reconstruction error: 0.004439983174612392\n",
      "Epoch [20 / 100] average reconstruction error: 0.004427220729422194\n",
      "Epoch [21 / 100] average reconstruction error: 0.004400134399731096\n",
      "Epoch [22 / 100] average reconstruction error: 0.004378359839445313\n",
      "Epoch [23 / 100] average reconstruction error: 0.004361210631055284\n",
      "Epoch [24 / 100] average reconstruction error: 0.0043455582226478206\n",
      "Epoch [25 / 100] average reconstruction error: 0.004327792856039066\n",
      "Epoch [26 / 100] average reconstruction error: 0.004308796993332247\n",
      "Epoch [27 / 100] average reconstruction error: 0.00429347192589134\n",
      "Epoch [28 / 100] average reconstruction error: 0.004288006841901616\n",
      "Epoch [29 / 100] average reconstruction error: 0.004264555070805468\n",
      "Epoch [30 / 100] average reconstruction error: 0.004254681157289038\n",
      "Epoch [31 / 100] average reconstruction error: 0.004240296379009396\n",
      "Epoch [32 / 100] average reconstruction error: 0.004233423151225995\n",
      "Epoch [33 / 100] average reconstruction error: 0.004215778080449795\n",
      "Epoch [34 / 100] average reconstruction error: 0.004211516637263923\n",
      "Epoch [35 / 100] average reconstruction error: 0.004214521672520655\n",
      "Epoch [36 / 100] average reconstruction error: 0.004186211786514729\n",
      "Epoch [37 / 100] average reconstruction error: 0.004183576227420785\n",
      "Epoch [38 / 100] average reconstruction error: 0.004171424410386358\n",
      "Epoch [39 / 100] average reconstruction error: 0.004163602619835307\n",
      "Epoch [40 / 100] average reconstruction error: 0.004161644767211918\n",
      "Epoch [41 / 100] average reconstruction error: 0.0041527772494797345\n",
      "Epoch [42 / 100] average reconstruction error: 0.004145493357450065\n",
      "Epoch [43 / 100] average reconstruction error: 0.004136162091351054\n",
      "Epoch [44 / 100] average reconstruction error: 0.004126685407916614\n",
      "Epoch [45 / 100] average reconstruction error: 0.004119028677086579\n",
      "Epoch [46 / 100] average reconstruction error: 0.004080565805235307\n",
      "Epoch [47 / 100] average reconstruction error: 0.004055484246447091\n",
      "Epoch [48 / 100] average reconstruction error: 0.004018838110994202\n",
      "Epoch [49 / 100] average reconstruction error: 0.00397080653673306\n",
      "Epoch [50 / 100] average reconstruction error: 0.0039447155794199084\n",
      "Epoch [51 / 100] average reconstruction error: 0.0038930393735474777\n",
      "Epoch [52 / 100] average reconstruction error: 0.0038535993792633847\n",
      "Epoch [53 / 100] average reconstruction error: 0.00378949665418282\n",
      "Epoch [54 / 100] average reconstruction error: 0.003724203584447589\n",
      "Epoch [55 / 100] average reconstruction error: 0.0036529981891248644\n",
      "Epoch [56 / 100] average reconstruction error: 0.003569368649824086\n",
      "Epoch [57 / 100] average reconstruction error: 0.0034935934275748615\n",
      "Epoch [58 / 100] average reconstruction error: 0.0034088867010997987\n",
      "Epoch [59 / 100] average reconstruction error: 0.0033414628284745593\n",
      "Epoch [60 / 100] average reconstruction error: 0.0032878286838030975\n",
      "Epoch [61 / 100] average reconstruction error: 0.0032301824520534514\n",
      "Epoch [62 / 100] average reconstruction error: 0.003185000334585101\n",
      "Epoch [63 / 100] average reconstruction error: 0.0031131798254298575\n",
      "Epoch [64 / 100] average reconstruction error: 0.0030880314186251152\n",
      "Epoch [65 / 100] average reconstruction error: 0.003054120605355647\n",
      "Epoch [66 / 100] average reconstruction error: 0.003009064908744797\n",
      "Epoch [67 / 100] average reconstruction error: 0.0029646985845667713\n",
      "Epoch [68 / 100] average reconstruction error: 0.0029306969079841466\n",
      "Epoch [69 / 100] average reconstruction error: 0.0028842521888893325\n",
      "Epoch [70 / 100] average reconstruction error: 0.0028528685769261654\n",
      "Epoch [71 / 100] average reconstruction error: 0.0028265927879822634\n",
      "Epoch [72 / 100] average reconstruction error: 0.0028034926289203918\n",
      "Epoch [73 / 100] average reconstruction error: 0.002764887063911808\n",
      "Epoch [74 / 100] average reconstruction error: 0.0027422456675425403\n",
      "Epoch [75 / 100] average reconstruction error: 0.00271768849386261\n",
      "Epoch [76 / 100] average reconstruction error: 0.0026745143191863902\n",
      "Epoch [77 / 100] average reconstruction error: 0.0026415686014478385\n",
      "Epoch [78 / 100] average reconstruction error: 0.0026323715996048433\n",
      "Epoch [79 / 100] average reconstruction error: 0.0025683944477769413\n",
      "Epoch [80 / 100] average reconstruction error: 0.0025317035588630675\n",
      "Epoch [81 / 100] average reconstruction error: 0.0024864657932322804\n",
      "Epoch [82 / 100] average reconstruction error: 0.0024352426869646954\n",
      "Epoch [83 / 100] average reconstruction error: 0.002409749422597765\n",
      "Epoch [84 / 100] average reconstruction error: 0.0023746290391636385\n",
      "Epoch [85 / 100] average reconstruction error: 0.0023307545169126134\n",
      "Epoch [86 / 100] average reconstruction error: 0.0022914979268122827\n",
      "Epoch [87 / 100] average reconstruction error: 0.002244791078324038\n",
      "Epoch [88 / 100] average reconstruction error: 0.0022168774215858464\n",
      "Epoch [89 / 100] average reconstruction error: 0.002163985610311828\n",
      "Epoch [90 / 100] average reconstruction error: 0.0021256322532511476\n",
      "Epoch [91 / 100] average reconstruction error: 0.0020814389086111556\n",
      "Epoch [92 / 100] average reconstruction error: 0.0020278921827595856\n",
      "Epoch [93 / 100] average reconstruction error: 0.0019764847200934702\n",
      "Epoch [94 / 100] average reconstruction error: 0.0019252289850988753\n",
      "Epoch [95 / 100] average reconstruction error: 0.001884600114013573\n",
      "Epoch [96 / 100] average reconstruction error: 0.0018327328164496305\n",
      "Epoch [97 / 100] average reconstruction error: 0.001774697595228866\n",
      "Epoch [98 / 100] average reconstruction error: 0.0017476751836569728\n",
      "Epoch [99 / 100] average reconstruction error: 0.0017091920382971265\n",
      "Epoch [100 / 100] average reconstruction error: 0.0016827697054034912\n"
     ]
    }
   ],
   "source": [
    "#alternative if there is malfunction in train \n",
    "\n",
    "#regularization = None\n",
    "#lmbda = 1e-10\n",
    "optimizer = torch.optim.Adam(params=imrae_4.parameters(), lr=0.0001)\n",
    "num_epochs = 100\n",
    "x=[]\n",
    "    \n",
    "for epoch in range(num_epochs):\n",
    "    train_loss_avg = 0\n",
    "    num_batches = 0\n",
    "        \n",
    "        \n",
    "    for batch in train_dataloader:\n",
    "        optimizer.zero_grad()\n",
    "        l1_regularization = 0\n",
    "        l2_regularization = 0\n",
    "        batch = batch.to(device)\n",
    "        reconstructed = imrae_4(batch)\n",
    "        loss = F.mse_loss(reconstructed, batch)\n",
    "        \n",
    "        #if(regularization=='l1'):\n",
    "        #    l1_regularization = torch.norm(imrae_4.encoder(batch),1)\n",
    "        #loss+= lmbda*l1_regularization  \n",
    "        #if(regularization == 'l2'):\n",
    "        #    l2_regularization = torch.norm(imrae_4.encoder(batch),2)**2\n",
    "        #loss+= lmbda*l2_regularization\n",
    "            \n",
    "        loss.backward()\n",
    "        optimizer.step()\n",
    "        train_loss_avg+=(loss.item())\n",
    "        num_batches += 1\n",
    "        x.append(to_pil_image(reconstructed[0].detach().cpu().clone()))\n",
    "    \n",
    "    train_loss_avg /= num_batches\n",
    "    print(f'Epoch [{epoch+1} / {num_epochs}] average reconstruction error: {train_loss_avg}')\n",
    "        \n"
   ]
  },
  {
   "cell_type": "code",
   "execution_count": 58,
   "metadata": {},
   "outputs": [],
   "source": [
    
   ]
  },
  {
   "cell_type": "code",
   "execution_count": 61,
   "metadata": {},
   "outputs": [
    {
     "data": {
      "image/png": "[encoded data removed]",
      "text/plain": [
       "<PIL.Image.Image image mode=RGB size=32x32 at 0x2AFF1DA8748>"
      ]
     },
     "execution_count": 61,
     "metadata": {},
     "output_type": "execute_result"
    }
   ],
   "source": [
    "x[-5]"
   ]
  },
  {
   "cell_type": "code",
   "execution_count": null,
   "metadata": {},
   "outputs": [],
   "source": [
    "\n",
    "ae_real_trained_l2, image_array_ae_real_l2, train_loss_avg_ae_real_l2 = train(lr=0.0001 ,train_dataloader = train_twoShape_dataloader ,num_epochs = 5,regularization = \"l2\")"
   ]
  },
  {
   "cell_type": "code",
   "execution_count": null,
   "metadata": {},
   "outputs": [],
   "source": [
    "ae_real_trained, image_array_ae_real, train_loss_avg_ae_real = train(lr=0.0001 ,train_dataloader = train_dataloader ,num_epochs = 100)"
   ]
  },
  {
   "cell_type": "code",
   "execution_count": null,
   "metadata": {},
   "outputs": [],
   "source": [
    "image_array_ae_real[-5]"
   ]
  },
  {
   "cell_type": "code",
   "execution_count": null,
   "metadata": {},
   "outputs": [],
   "source": [
    
   ]
  },
  {
   "cell_type": "code",
   "execution_count": null,
   "metadata": {},
   "outputs": [],
   "source": [
    
   ]
  },
  {
   "cell_type": "code",
   "execution_count": null,
   "metadata": {
    "scrolled": true
   },
   "outputs": [],
   "source": [
    "imrae_2_trained_real, image_array_imrae_2_real, train_loss_avg_imrae_2_trained_real = train(lr = 0.0001, train_dataloader = train_dataloader, num_epochs = 100, l = 2)"
   ]
  },
  {
   "cell_type": "code",
   "execution_count": null,
   "metadata": {},
   "outputs": [],
   "source": [
    "imrae_4_trained, image_array_imrae_4, train_loss_avg_imrae_4_trained = train(lr = 0.0001, train_dataloader = train_dataloader, num_epochs = 10, l = 4)"
   ]
  },
  {
   "cell_type": "code",
   "execution_count": null,
   "metadata": {},
   "outputs": [],
   "source": [
    "torch.save([MODEL_NAME}.state_dict(),\"{FILENAME].pt\")"
   ]
  },
  {
   "cell_type": "code",
   "execution_count": 33,
   "metadata": {},
   "outputs": [],
   "source": [
    "def singular_values(irmae, test_dataloader,layers = 0):\n",
    "    device = torch.device(\"cuda:0\" if torch.cuda.is_available() else \"cpu\")\n",
    "    irmae.eval()\n",
    "    z = []\n",
    "    for batch in test_dataloader:\n",
    "    \n",
    "        num_matrices = 0\n",
    "        \n",
    "        with torch.no_grad():\n",
    "            batch = batch.to(device)\n",
    "            latent_vec = irmae.encoder(batch)\n",
    "            if(layers > 0):\n",
    "                z_portion = irmae.linear_between(latent_vec)\n",
    "            else:\n",
    "                z_portion = latent_vec\n",
    "            z.append(z_portion)\n",
    "    \n",
    "    z = torch.cat(z,axis = 0).cpu().numpy()\n",
    "    latent_covariance = np.cov(z,rowvar = False)\n",
    "    \n",
    "    \n",
    "           \n",
    "    _,diag,_ = np.linalg.svd(latent_covariance)\n",
    "    return (diag/max(diag)),latent_covariance"
   ]
  },
  {
   "cell_type": "code",
   "execution_count": null,
   "metadata": {},
   "outputs": [],
   "source": [
    "#using dataset with cv2 curcles but not cv2 rects\n",
    "model = IMRAE(0)\n",
    "model.load_state_dict(torch.load(\"ae_real_trained_colorsbtwen0and1_cv2circles.pt\"))\n",
    "device = torch.device(\"cuda:0\" if torch.cuda.is_available() else \"cpu\")\n",
    "model.to(device)\n",
    "model2 = IMRAE(2)\n",
    "model2.load_state_dict(torch.load(\"imrae_2_CVCircles.pt\"))\n",
    "model2.to(device)\n",
    "model8 = IMRAE(4)\n",
    "model8.load_state_dict(torch.load(\"imrae_4_trained_cvCircles.pt\"))\n",
    "model8.to(device)\n",
    "diag_ae,_ = singular_values(model,test_dataloader)\n",
    "diag_2,_ = singular_values(model2,test_dataloader)\n",
    "diag_4,_ = singular_values(imrae_4_trained, test_dataloader)"
   ]
  },
  {
   "cell_type": "code",
   "execution_count": 76,
   "metadata": {},
   "outputs": [],
   "source": [
    "#using dataset with cv2 circles abd cv2 squares (smaller)\n",
    "#models are \"ae_real_trained_CV2circles_smallerSquares.pt\" and \"imrae_2_trained_real_CV2circles_smallerSquares.pt\"\n",
    "device = torch.device(\"cuda:0\" if torch.cuda.is_available() else \"cpu\")\n",
    "model3 = IMRAE(0)\n",
    "model3.load_state_dict(torch.load(\"ae_real_trained_CV2circles_smallerSquares.pt\"))\n",
    "model3.to(device)\n",
    "model4 = IMRAE(2)\n",
    "model4.load_state_dict(torch.load(\"imrae_2_trained_real_CV2circles_smallerSquares.pt\"))\n",
    "model4.to(device)\n",
    "model5 = IMRAE(0)\n",
    "model5.load_state_dict(torch.load(\"ae_real_trained_l1_cvcircles_smallrects.pt\"))\n",
    "model5.to(device)\n",
    "model6 = IMRAE(0)\n",
    "model6.load_state_dict(torch.load(\"ae_real_trained_l2_cvcircles_smallrects_encoderReg_1e-10.pt\"))\n",
    "model6.to(device)\n",
    "model7 = IMRAE(0)\n",
    "model7.load_state_dict(torch.load(\"ae_real_trained_l1_cvcircles_smallrects_encoderReg_1e-10_real.pt\"))\n",
    "model7.to(device)\n",
    "diag_ae_real_trained, latent_cov_ae_real_train = singular_values(model3, test_dataloader)\n",
    "diag_2_real_trained, latent_cov_2_real_trained = singular_values(model4, test_dataloader)\n",
    "#ae_real_trained_l1_diag, cov_l1 = singular_values(model5, test_dataloader)\n",
    "ae_real_trained_l2_diag,cov_l2 = singular_values(model6, test_dataloader)\n",
    "#test_diag,_ = singular_values(ae_real_trained_l2,test_dataloader)\n",
    "ae_real_trained_l1_diag, cov_l1 = singular_values(model7,test_dataloader)\n",
    "imrae_4_diag, cov_4 = singular_values(imrae_4, test_dataloader)"
   ]
  },
  {
   "cell_type": "code",
   "execution_count": 79,
   "metadata": {},
   "outputs": [
    {
     "data": {
      "text/plain": [
       "<matplotlib.legend.Legend at 0x2aff3395288>"
      ]
     },
     "execution_count": 79,
     "metadata": {},
     "output_type": "execute_result"
    },
    {
     "data": {
      "image/png": "[encoded data removed]",
      "text/plain": [
       "<Figure size 432x288 with 1 Axes>"
      ]
     },
     "metadata": {
      "needs_background": "light"
     },
     "output_type": "display_data"
    }
   ],
   "source": [
    "\n",
    "plt.plot(diag_ae_real_trained,label = f'ae with matrix rank: {torch.matrix_rank(torch.tensor(latent_cov_ae_real_train))}')\n",
    "plt.plot(diag_2_real_trained, label = f\"imrae (l=2) (cv2 rects: {torch.matrix_rank(torch.tensor(latent_cov_2_real_trained))}\")\n",
    "plt.plot(ae_real_trained_l2_diag, label = f\"ae (l2 reg)  cv2 rects: {torch.matrix_rank(torch.tensor(cov_l2))}\")\n",
    "plt.plot(ae_real_trained_l1_diag, label = f\"ae (l1 reg) cv2 rects: {torch.matrix_rank(torch.tensor(cov_l1))}\")\n",
    "plt.plot(imrae_4_diag, label = f\"imrae (l=4) cv2 rects: {torch.matrix_rank(torch.tensor(cov_4))}\")\n",
    "\n",
    "\n",
    "plt.vlines(7,-1,1,linestyles = \"dashed\")\n",
    "plt.ylim(0,0.3)\n",
    "plt.ylabel('singular values')\n",
    "plt.xlabel('singular value rank')\n",
    "plt.title(\"Singular Rank vs. Singular Values (smaller squares)\")\n",
    "plt.legend()\n"
   ]
  },
  {
   "cell_type": "code",
   "execution_count": null,
   "metadata": {},
   "outputs": [],
   "source": [
    "\n",
    "import torchvision.utils\n",
    "\n",
    "\n",
    "def plt_images(image):\n",
    "    to_pil_image= transforms.ToPILImage()\n",
    "    plt.imshow(to_pil_image(image))\n",
    "\n",
    "images,labels = iter(test_dataloader).next()\n",
    "\n",
    "plt_images(torchvision.utils.make_grid(images[1:31],10,3))\n",
    "plt.show()\n"
   ]
  },
  {
   "cell_type": "code",
   "execution_count": 71,
   "metadata": {},
   "outputs": [],
   "source": [
    "import cv2 as cv\n",
    "def interpolate(models,x):\n",
    "    to_pil_image= transforms.ToPILImage()\n",
    "    fig,axs = plt.subplots(len(models),len(x), figsize= (20,12))\n",
    "    index = np.random.randint(30)\n",
    "    images = iter(test_dataloader).next()\n",
    "    images = images.to(device)\n",
    "    row = 0\n",
    "    for (model,name) in models:\n",
    "        model.eval()\n",
    "        z = model.linear_between(model.encoder(images))\n",
    "        z1 = z[index]\n",
    "        z2 = z[index+1]\n",
    "        for b,i in enumerate(x):\n",
    "            interpolated_image = i*z1 + (1-i) * z2\n",
    "            ans = torch.reshape(model.decoder(interpolated_image),(3,32,32))\n",
    "            ans_np = np.transpose(ans.cpu().detach().numpy(), [2,1,0])\n",
    "            axs[row, b].imshow(ans_np)\n",
    "            #axs[row, b].imshow(to_pil_image(torch.reshape(model.decoder(interpolated_image),(3,32,32)).cpu()))\n",
    "            axs[row, b].set_title(f'{name}, x:{np.round(i,decimals = 1)}',fontdict = {'fontsize':8})\n",
    "        row+=1\n",
    "            \n",
    "            "
   ]
  },
  {
   "cell_type": "code",
   "execution_count": 73,
   "metadata": {},
   "outputs": [
    {
     "name": "stderr",
     "output_type": "stream",
     "text": [
      "Clipping input data to the valid range for imshow with RGB data ([0..1] for floats or [0..255] for integers).\n",
      "Clipping input data to the valid range for imshow with RGB data ([0..1] for floats or [0..255] for integers).\n",
      "Clipping input data to the valid range for imshow with RGB data ([0..1] for floats or [0..255] for integers).\n",
      "Clipping input data to the valid range for imshow with RGB data ([0..1] for floats or [0..255] for integers).\n",
      "Clipping input data to the valid range for imshow with RGB data ([0..1] for floats or [0..255] for integers).\n",
      "Clipping input data to the valid range for imshow with RGB data ([0..1] for floats or [0..255] for integers).\n",
      "Clipping input data to the valid range for imshow with RGB data ([0..1] for floats or [0..255] for integers).\n",
      "Clipping input data to the valid range for imshow with RGB data ([0..1] for floats or [0..255] for integers).\n",
      "Clipping input data to the valid range for imshow with RGB data ([0..1] for floats or [0..255] for integers).\n",
      "Clipping input data to the valid range for imshow with RGB data ([0..1] for floats or [0..255] for integers).\n",
      "Clipping input data to the valid range for imshow with RGB data ([0..1] for floats or [0..255] for integers).\n",
      "Clipping input data to the valid range for imshow with RGB data ([0..1] for floats or [0..255] for integers).\n",
      "Clipping input data to the valid range for imshow with RGB data ([0..1] for floats or [0..255] for integers).\n",
      "Clipping input data to the valid range for imshow with RGB data ([0..1] for floats or [0..255] for integers).\n",
      "Clipping input data to the valid range for imshow with RGB data ([0..1] for floats or [0..255] for integers).\n",
      "Clipping input data to the valid range for imshow with RGB data ([0..1] for floats or [0..255] for integers).\n",
      "Clipping input data to the valid range for imshow with RGB data ([0..1] for floats or [0..255] for integers).\n",
      "Clipping input data to the valid range for imshow with RGB data ([0..1] for floats or [0..255] for integers).\n",
      "Clipping input data to the valid range for imshow with RGB data ([0..1] for floats or [0..255] for integers).\n",
      "Clipping input data to the valid range for imshow with RGB data ([0..1] for floats or [0..255] for integers).\n",
      "Clipping input data to the valid range for imshow with RGB data ([0..1] for floats or [0..255] for integers).\n",
      "Clipping input data to the valid range for imshow with RGB data ([0..1] for floats or [0..255] for integers).\n",
      "Clipping input data to the valid range for imshow with RGB data ([0..1] for floats or [0..255] for integers).\n",
      "Clipping input data to the valid range for imshow with RGB data ([0..1] for floats or [0..255] for integers).\n",
      "Clipping input data to the valid range for imshow with RGB data ([0..1] for floats or [0..255] for integers).\n",
      "Clipping input data to the valid range for imshow with RGB data ([0..1] for floats or [0..255] for integers).\n",
      "Clipping input data to the valid range for imshow with RGB data ([0..1] for floats or [0..255] for integers).\n",
      "Clipping input data to the valid range for imshow with RGB data ([0..1] for floats or [0..255] for integers).\n",
      "Clipping input data to the valid range for imshow with RGB data ([0..1] for floats or [0..255] for integers).\n",
      "Clipping input data to the valid range for imshow with RGB data ([0..1] for floats or [0..255] for integers).\n",
      "Clipping input data to the valid range for imshow with RGB data ([0..1] for floats or [0..255] for integers).\n",
      "Clipping input data to the valid range for imshow with RGB data ([0..1] for floats or [0..255] for integers).\n",
      "Clipping input data to the valid range for imshow with RGB data ([0..1] for floats or [0..255] for integers).\n",
      "Clipping input data to the valid range for imshow with RGB data ([0..1] for floats or [0..255] for integers).\n",
      "Clipping input data to the valid range for imshow with RGB data ([0..1] for floats or [0..255] for integers).\n",
      "Clipping input data to the valid range for imshow with RGB data ([0..1] for floats or [0..255] for integers).\n",
      "Clipping input data to the valid range for imshow with RGB data ([0..1] for floats or [0..255] for integers).\n",
      "Clipping input data to the valid range for imshow with RGB data ([0..1] for floats or [0..255] for integers).\n",
      "Clipping input data to the valid range for imshow with RGB data ([0..1] for floats or [0..255] for integers).\n",
      "Clipping input data to the valid range for imshow with RGB data ([0..1] for floats or [0..255] for integers).\n",
      "Clipping input data to the valid range for imshow with RGB data ([0..1] for floats or [0..255] for integers).\n",
      "Clipping input data to the valid range for imshow with RGB data ([0..1] for floats or [0..255] for integers).\n",
      "Clipping input data to the valid range for imshow with RGB data ([0..1] for floats or [0..255] for integers).\n",
      "Clipping input data to the valid range for imshow with RGB data ([0..1] for floats or [0..255] for integers).\n",
      "Clipping input data to the valid range for imshow with RGB data ([0..1] for floats or [0..255] for integers).\n",
      "Clipping input data to the valid range for imshow with RGB data ([0..1] for floats or [0..255] for integers).\n",
      "Clipping input data to the valid range for imshow with RGB data ([0..1] for floats or [0..255] for integers).\n",
      "Clipping input data to the valid range for imshow with RGB data ([0..1] for floats or [0..255] for integers).\n",
      "Clipping input data to the valid range for imshow with RGB data ([0..1] for floats or [0..255] for integers).\n",
      "Clipping input data to the valid range for imshow with RGB data ([0..1] for floats or [0..255] for integers).\n"
     ]
    },
    {
     "data": {
      "image/png": "[encoded data removed]",
      "text/plain": [
       "<Figure size 1440x864 with 50 Axes>"
      ]
     },
     "metadata": {
      "needs_background": "light"
     },
     "output_type": "display_data"
    }
   ],
   "source": [
    "model = IMRAE(0)\n",
    "model.load_state_dict(torch.load(\"ae_real_trained_colorsbtwen0and1_cv2circles.pt\"))\n",
    "device = torch.device(\"cuda:0\" if torch.cuda.is_available() else \"cpu\")\n",
    "model.to(device)\n",
    "model2 = IMRAE(2)\n",
    "model2.load_state_dict(torch.load(\"imrae_2_CVCircles.pt\"))\n",
    "model2.to(device)\n",
    "device = torch.device(\"cuda:0\" if torch.cuda.is_available() else \"cpu\")\n",
    "model8 = IMRAE(4)\n",
    "model8.load_state_dict(torch.load(\"imrae_4_trained_cvCircles.pt\"))\n",
    "model8.to(device)\n",
    "model9 = IMRAE(0)\n",
    "model9.load_state_dict(torch.load(\"ae_real_trained_l1_cvcircles_encoderReg_1e-10_real.pt\"))\n",
    "model9.to(device)\n",
    "model10 = IMRAE(0)\n",
    "model10.load_state_dict(torch.load(\"ae_real_trained_l2_cvcircles_encoderReg_1e-10.pt\"))\n",
    "model10.to(device)\n",
    "\n",
    "\n",
    "\n",
    "model3 = IMRAE(0)\n",
    "model3.load_state_dict(torch.load(\"ae_real_trained_CV2circles_smallerSquares.pt\"))\n",
    "model3.to(device)\n",
    "model4 = IMRAE(2)\n",
    "model4.load_state_dict(torch.load(\"imrae_2_trained_real_CV2circles_smallerSquares.pt\"))\n",
    "model4.to(device)\n",
    "model6 = IMRAE(0)\n",
    "model6.load_state_dict(torch.load(\"ae_real_trained_l2_cvcircles_smallrects_encoderReg_1e-10.pt\"))\n",
    "model6.to(device)\n",
    "model7 = IMRAE(0)\n",
    "model7.load_state_dict(torch.load(\"ae_real_trained_l1_cvcircles_smallrects_encoderReg_1e-10_real.pt\"))\n",
    "model7.to(device)\n",
    "model8 = IMRAE(4)\n",
    "model8.load_state_dict(torch.load(\"imrae_4_cvCircles_cvRectangles_lastOne_real.pt\"))\n",
    "model8.to(device)\n",
    "\n",
    "\n",
    "interpolate([(model3,\"ae\"),(model7,\"ae(reg = l1)\"),(model6,\"ae(reg = l2)\"),(model4,\"irmae (l=2)\"),(model8,\"irmae (l=4)\")],np.round(np.linspace(0,1,10),decimals = 1))"
   ]
  }
 ],
 "metadata": {
  "kernelspec": {
   "display_name": "Python 3",
   "language": "python",
   "name": "python3"
  },
  "language_info": {
   "codemirror_mode": {
    "name": "ipython",
    "version": 3
   },
   "file_extension": ".py",
   "mimetype": "text/x-python",
   "name": "python",
   "nbconvert_exporter": "python",
   "pygments_lexer": "ipython3",
   "version": "3.7.6"
  }
 },
 "nbformat": 4,
 "nbformat_minor": 4
}
